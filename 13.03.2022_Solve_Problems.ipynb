{
 "cells": [
  {
   "cell_type": "code",
   "execution_count": 7,
   "id": "290b08cd",
   "metadata": {},
   "outputs": [
    {
     "name": "stdout",
     "output_type": "stream",
     "text": [
      "num9\n",
      "{1: 1, 2: 4, 3: 9, 4: 16, 5: 25, 6: 36, 7: 49, 8: 64, 9: 81}\n"
     ]
    }
   ],
   "source": [
    "n = int(input('num'))\n",
    "x ={}\n",
    "for i in range(1, n+1):\n",
    "    x[i]=i*i\n",
    "print(x)"
   ]
  },
  {
   "cell_type": "code",
   "execution_count": 13,
   "id": "7f8d6bdf",
   "metadata": {},
   "outputs": [
    {
     "name": "stdout",
     "output_type": "stream",
     "text": [
      "num1:5\n",
      "num2:3\n",
      "add,sub,mul,div,powpow\n",
      "result is 125\n"
     ]
    }
   ],
   "source": [
    "x= int(input('num1:'))\n",
    "y= int(input('num2:'))\n",
    "key = str(input('add,sub,mul,div,pow'))\n",
    "if key=='add':\n",
    "    z=x+y\n",
    "    print(f\"result is {z}\")\n",
    "elif key=='sub':\n",
    "    z=x-y\n",
    "    print(f\"result is {z}\")\n",
    "elif key=='mul':\n",
    "    z=x*y\n",
    "    print(f\"result is {z}\")\n",
    "elif key=='div':\n",
    "    z=x/y\n",
    "    print(f\"result is {z}\")\n",
    "elif key=='pow':\n",
    "    z=x**y\n",
    "    print(f\"result is {z}\")"
   ]
  },
  {
   "cell_type": "code",
   "execution_count": 21,
   "id": "e23142e4",
   "metadata": {},
   "outputs": [
    {
     "name": "stdout",
     "output_type": "stream",
     "text": [
      "enterenterHello321Bye360\n",
      " Digit: 6, Letter :13\n"
     ]
    }
   ],
   "source": [
    "x = str(input('enter'))\n",
    "count1=0\n",
    "count2=0\n",
    "for i in x:\n",
    "    if i.isdigit():\n",
    "        count1+=1\n",
    "    else:\n",
    "        count2+=1\n",
    "print(f\" Digit: {count1}, Letter :{count2}\")"
   ]
  },
  {
   "cell_type": "code",
   "execution_count": 16,
   "id": "b19a144b",
   "metadata": {},
   "outputs": [
    {
     "name": "stdout",
     "output_type": "stream",
     "text": [
      "enterHello321Bye360\n"
     ]
    },
    {
     "data": {
      "text/plain": [
       "['H', 'e', 'l', 'l', 'o', '3', '2', '1', 'B', 'y', 'e', '3', '6', '0']"
      ]
     },
     "execution_count": 16,
     "metadata": {},
     "output_type": "execute_result"
    }
   ],
   "source": []
  },
  {
   "cell_type": "code",
   "execution_count": 25,
   "id": "98b4da73",
   "metadata": {},
   "outputs": [
    {
     "name": "stdout",
     "output_type": "stream",
     "text": [
      "[1, 2, 3, 4, 5]\n",
      "[6, 7, 8, 9, 10]\n"
     ]
    }
   ],
   "source": [
    "x = (1,2,3,4,5,6,7,8,9,10)\n",
    "y = list(x)\n",
    "print (y[0:5])\n",
    "print (y[5:11])"
   ]
  },
  {
   "cell_type": "code",
   "execution_count": null,
   "id": "e52c66c5",
   "metadata": {},
   "outputs": [],
   "source": [
    "x = (1,2,3,4,5,6,7,8,9,10)\n",
    "y=len(x)\n",
    "for i in range()"
   ]
  },
  {
   "cell_type": "code",
   "execution_count": 26,
   "id": "5377649c",
   "metadata": {},
   "outputs": [
    {
     "data": {
      "text/plain": [
       "10"
      ]
     },
     "execution_count": 26,
     "metadata": {},
     "output_type": "execute_result"
    }
   ],
   "source": []
  },
  {
   "cell_type": "code",
   "execution_count": 28,
   "id": "bfb51d91",
   "metadata": {},
   "outputs": [
    {
     "name": "stdout",
     "output_type": "stream",
     "text": [
      "(2, 4, 6, 8, 10)\n"
     ]
    }
   ],
   "source": [
    "x = (1,2,3,4,5,6,7,8,9,10)\n",
    "l = []\n",
    "for i in x:\n",
    "    if i%2==0:\n",
    "        l+=[i]\n",
    "    else:\n",
    "        pass\n",
    "print(tuple(l))"
   ]
  },
  {
   "cell_type": "code",
   "execution_count": 37,
   "id": "445b4b4b",
   "metadata": {},
   "outputs": [
    {
     "name": "stdout",
     "output_type": "stream",
     "text": [
      "[150, 191, 151, 162, 143]\n"
     ]
    }
   ],
   "source": [
    "import random\n",
    "l = []\n",
    "for i in range (100,201):\n",
    "    n=random.randint(100,201)\n",
    "    l.append(n)\n",
    "    if len(l)==5:\n",
    "        break\n",
    "    else:\n",
    "        continue\n",
    "print(l)"
   ]
  },
  {
   "cell_type": "code",
   "execution_count": 38,
   "id": "b97d67fc",
   "metadata": {},
   "outputs": [
    {
     "data": {
      "text/plain": [
       "{1, 3, 4, 5, 6, 7, 8}"
      ]
     },
     "execution_count": 38,
     "metadata": {},
     "output_type": "execute_result"
    }
   ],
   "source": [
    "x = [1,1,1,1,3,3,4,4,4,5,6,7,8,8,8]\n",
    "s = set(x)\n",
    "s"
   ]
  },
  {
   "cell_type": "code",
   "execution_count": 43,
   "id": "5504bfa5",
   "metadata": {},
   "outputs": [
    {
     "name": "stdout",
     "output_type": "stream",
     "text": [
      "The number of times 1 exist:  4\n",
      "The number of times 3 exist:  2\n",
      "The number of times 4 exist:  3\n",
      "The number of times 5 exist:  1\n",
      "The number of times 6 exist:  1\n",
      "The number of times 7 exist:  1\n",
      "The number of times 8 exist:  3\n"
     ]
    }
   ],
   "source": [
    "for i in s:\n",
    "    print(\"The number of times {} exist: \".format(i), x.count(i))"
   ]
  },
  {
   "cell_type": "code",
   "execution_count": 45,
   "id": "5c0d4982",
   "metadata": {},
   "outputs": [
    {
     "data": {
      "text/plain": [
       "2"
      ]
     },
     "execution_count": 45,
     "metadata": {},
     "output_type": "execute_result"
    }
   ],
   "source": [
    "x = [1,1,1,1,3,3,4,4,4,5,6,7,8,8,8]\n",
    "z = x.count(3)\n",
    "z"
   ]
  },
  {
   "cell_type": "code",
   "execution_count": 57,
   "id": "6dd94e20",
   "metadata": {},
   "outputs": [
    {
     "name": "stdout",
     "output_type": "stream",
     "text": [
      "[[2, 2], [1, 1]]\n"
     ]
    }
   ],
   "source": [
    "x = [2, 1, 2, 1]\n",
    "z = {}\n",
    "for i in x:\n",
    "    if i in z:\n",
    "        z[i]+=[i]\n",
    "    else:\n",
    "        z[i]=[i]\n",
    "print(list(z.values()))"
   ]
  },
  {
   "cell_type": "code",
   "execution_count": 138,
   "id": "d2844135",
   "metadata": {},
   "outputs": [
    {
     "name": "stdout",
     "output_type": "stream",
     "text": [
      "[1, 2]\n"
     ]
    }
   ],
   "source": [
    "z=[]\n",
    "z1=[]\n",
    "for x in range(1,101):\n",
    "    for y in range(1,101):\n",
    "        if x%y==0:\n",
    "            z.append(y)\n",
    "            if x%len(z)==0:\n",
    "                z1.append(x)\n",
    "print(z1)"
   ]
  },
  {
   "cell_type": "code",
   "execution_count": 163,
   "id": "b34e332c",
   "metadata": {},
   "outputs": [
    {
     "name": "stdout",
     "output_type": "stream",
     "text": [
      "[1, 2, 8, 9, 12, 18, 24, 36, 40, 56, 60, 72, 80, 84, 88, 96]\n"
     ]
    }
   ],
   "source": [
    "z=[]\n",
    "for x in range(1,101):\n",
    "    count=0\n",
    "    for y in range(1,101):\n",
    "        if x%y==0:\n",
    "            count+=1\n",
    "    if x%count==0:\n",
    "        z.append(x)\n",
    "print(z)"
   ]
  },
  {
   "cell_type": "code",
   "execution_count": 143,
   "id": "06e80241",
   "metadata": {},
   "outputs": [
    {
     "name": "stdout",
     "output_type": "stream",
     "text": [
      "[1, 2, 8, 9, 12, 18, 24, 36, 40, 56, 60, 72, 80, 84, 88, 96]\n"
     ]
    }
   ],
   "source": [
    "tau=[]\n",
    "for i in range(1,101):\n",
    "  count=0\n",
    "  for j in range(1,i+1):\n",
    "    if i % j == 0:\n",
    "      count+=1\n",
    "  if i % count ==0:\n",
    "    tau.append(i)\n",
    "print(tau)"
   ]
  },
  {
   "cell_type": "code",
   "execution_count": 168,
   "id": "9d897193",
   "metadata": {},
   "outputs": [
    {
     "name": "stdout",
     "output_type": "stream",
     "text": [
      "[1, 2, 8, 9, 12, 18, 24, 36, 40, 56, 60, 72, 80, 84, 88, 96]\n"
     ]
    }
   ],
   "source": [
    "z=[]\n",
    "for x in range(1,101):\n",
    "    counter=0\n",
    "    for y in range(1,101):\n",
    "        if x%y==0:\n",
    "            counter+=1\n",
    "    if x%count==0:\n",
    "        z+=[x]\n",
    "print(z)"
   ]
  },
  {
   "cell_type": "code",
   "execution_count": 180,
   "id": "87cec44f",
   "metadata": {},
   "outputs": [
    {
     "name": "stdout",
     "output_type": "stream",
     "text": [
      "{'b', 'a', 'c'}\n"
     ]
    }
   ],
   "source": [
    "x = {'a','b','c'}\n",
    "y = {'d', 'e', 'a'}\n",
    "x.intersection(y)\n",
    "print(x)"
   ]
  },
  {
   "cell_type": "code",
   "execution_count": null,
   "id": "83d17867",
   "metadata": {},
   "outputs": [],
   "source": []
  },
  {
   "cell_type": "code",
   "execution_count": null,
   "id": "784580c7",
   "metadata": {},
   "outputs": [],
   "source": []
  },
  {
   "cell_type": "code",
   "execution_count": null,
   "id": "09c1d660",
   "metadata": {},
   "outputs": [],
   "source": []
  }
 ],
 "metadata": {
  "kernelspec": {
   "display_name": "Python 3 (ipykernel)",
   "language": "python",
   "name": "python3"
  },
  "language_info": {
   "codemirror_mode": {
    "name": "ipython",
    "version": 3
   },
   "file_extension": ".py",
   "mimetype": "text/x-python",
   "name": "python",
   "nbconvert_exporter": "python",
   "pygments_lexer": "ipython3",
   "version": "3.10.1"
  }
 },
 "nbformat": 4,
 "nbformat_minor": 5
}
